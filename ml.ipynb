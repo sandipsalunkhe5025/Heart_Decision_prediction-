{
 "cells": [
  {
   "cell_type": "markdown",
   "id": "4034218e",
   "metadata": {},
   "source": [
    "  \n",
    " <font color =orange size =12><center>-:MACHINE LEARNING:-"
   ]
  },
  {
   "cell_type": "markdown",
   "id": "dcd82cad",
   "metadata": {},
   "source": [
    " <font color =black size =6>Problem statement"
   ]
  },
  {
   "cell_type": "code",
   "execution_count": 4,
   "id": "ea199e39",
   "metadata": {},
   "outputs": [],
   "source": [
    "#predict the heart deases is "
   ]
  },
  {
   "cell_type": "markdown",
   "id": "930c931a",
   "metadata": {},
   "source": [
    "#   <font color =black size =6>Data Gathering"
   ]
  },
  {
   "cell_type": "code",
   "execution_count": 5,
   "id": "01c7d387",
   "metadata": {},
   "outputs": [],
   "source": [
    "import pandas as pd\n",
    "import numpy as np\n",
    "import warnings\n",
    "warnings.filterwarnings(\"ignore\")"
   ]
  },
  {
   "cell_type": "code",
   "execution_count": 6,
   "id": "165a4026",
   "metadata": {},
   "outputs": [
    {
     "data": {
      "text/html": [
       "<div>\n",
       "<style scoped>\n",
       "    .dataframe tbody tr th:only-of-type {\n",
       "        vertical-align: middle;\n",
       "    }\n",
       "\n",
       "    .dataframe tbody tr th {\n",
       "        vertical-align: top;\n",
       "    }\n",
       "\n",
       "    .dataframe thead th {\n",
       "        text-align: right;\n",
       "    }\n",
       "</style>\n",
       "<table border=\"1\" class=\"dataframe\">\n",
       "  <thead>\n",
       "    <tr style=\"text-align: right;\">\n",
       "      <th></th>\n",
       "      <th>Age</th>\n",
       "      <th>Sex</th>\n",
       "      <th>ChestPainType</th>\n",
       "      <th>RestingBP</th>\n",
       "      <th>Cholesterol</th>\n",
       "      <th>FastingBS</th>\n",
       "      <th>RestingECG</th>\n",
       "      <th>MaxHR</th>\n",
       "      <th>ExerciseAngina</th>\n",
       "      <th>Oldpeak</th>\n",
       "      <th>ST_Slope</th>\n",
       "      <th>HeartDisease</th>\n",
       "    </tr>\n",
       "  </thead>\n",
       "  <tbody>\n",
       "    <tr>\n",
       "      <th>0</th>\n",
       "      <td>40</td>\n",
       "      <td>M</td>\n",
       "      <td>ATA</td>\n",
       "      <td>140</td>\n",
       "      <td>289</td>\n",
       "      <td>0</td>\n",
       "      <td>Normal</td>\n",
       "      <td>172</td>\n",
       "      <td>N</td>\n",
       "      <td>0.0</td>\n",
       "      <td>Up</td>\n",
       "      <td>0</td>\n",
       "    </tr>\n",
       "    <tr>\n",
       "      <th>1</th>\n",
       "      <td>49</td>\n",
       "      <td>F</td>\n",
       "      <td>NAP</td>\n",
       "      <td>160</td>\n",
       "      <td>180</td>\n",
       "      <td>0</td>\n",
       "      <td>Normal</td>\n",
       "      <td>156</td>\n",
       "      <td>N</td>\n",
       "      <td>1.0</td>\n",
       "      <td>Flat</td>\n",
       "      <td>1</td>\n",
       "    </tr>\n",
       "    <tr>\n",
       "      <th>2</th>\n",
       "      <td>37</td>\n",
       "      <td>M</td>\n",
       "      <td>ATA</td>\n",
       "      <td>130</td>\n",
       "      <td>283</td>\n",
       "      <td>0</td>\n",
       "      <td>ST</td>\n",
       "      <td>98</td>\n",
       "      <td>N</td>\n",
       "      <td>0.0</td>\n",
       "      <td>Up</td>\n",
       "      <td>0</td>\n",
       "    </tr>\n",
       "    <tr>\n",
       "      <th>3</th>\n",
       "      <td>48</td>\n",
       "      <td>F</td>\n",
       "      <td>ASY</td>\n",
       "      <td>138</td>\n",
       "      <td>214</td>\n",
       "      <td>0</td>\n",
       "      <td>Normal</td>\n",
       "      <td>108</td>\n",
       "      <td>Y</td>\n",
       "      <td>1.5</td>\n",
       "      <td>Flat</td>\n",
       "      <td>1</td>\n",
       "    </tr>\n",
       "    <tr>\n",
       "      <th>4</th>\n",
       "      <td>54</td>\n",
       "      <td>M</td>\n",
       "      <td>NAP</td>\n",
       "      <td>150</td>\n",
       "      <td>195</td>\n",
       "      <td>0</td>\n",
       "      <td>Normal</td>\n",
       "      <td>122</td>\n",
       "      <td>N</td>\n",
       "      <td>0.0</td>\n",
       "      <td>Up</td>\n",
       "      <td>0</td>\n",
       "    </tr>\n",
       "    <tr>\n",
       "      <th>...</th>\n",
       "      <td>...</td>\n",
       "      <td>...</td>\n",
       "      <td>...</td>\n",
       "      <td>...</td>\n",
       "      <td>...</td>\n",
       "      <td>...</td>\n",
       "      <td>...</td>\n",
       "      <td>...</td>\n",
       "      <td>...</td>\n",
       "      <td>...</td>\n",
       "      <td>...</td>\n",
       "      <td>...</td>\n",
       "    </tr>\n",
       "    <tr>\n",
       "      <th>913</th>\n",
       "      <td>45</td>\n",
       "      <td>M</td>\n",
       "      <td>TA</td>\n",
       "      <td>110</td>\n",
       "      <td>264</td>\n",
       "      <td>0</td>\n",
       "      <td>Normal</td>\n",
       "      <td>132</td>\n",
       "      <td>N</td>\n",
       "      <td>1.2</td>\n",
       "      <td>Flat</td>\n",
       "      <td>1</td>\n",
       "    </tr>\n",
       "    <tr>\n",
       "      <th>914</th>\n",
       "      <td>68</td>\n",
       "      <td>M</td>\n",
       "      <td>ASY</td>\n",
       "      <td>144</td>\n",
       "      <td>193</td>\n",
       "      <td>1</td>\n",
       "      <td>Normal</td>\n",
       "      <td>141</td>\n",
       "      <td>N</td>\n",
       "      <td>3.4</td>\n",
       "      <td>Flat</td>\n",
       "      <td>1</td>\n",
       "    </tr>\n",
       "    <tr>\n",
       "      <th>915</th>\n",
       "      <td>57</td>\n",
       "      <td>M</td>\n",
       "      <td>ASY</td>\n",
       "      <td>130</td>\n",
       "      <td>131</td>\n",
       "      <td>0</td>\n",
       "      <td>Normal</td>\n",
       "      <td>115</td>\n",
       "      <td>Y</td>\n",
       "      <td>1.2</td>\n",
       "      <td>Flat</td>\n",
       "      <td>1</td>\n",
       "    </tr>\n",
       "    <tr>\n",
       "      <th>916</th>\n",
       "      <td>57</td>\n",
       "      <td>F</td>\n",
       "      <td>ATA</td>\n",
       "      <td>130</td>\n",
       "      <td>236</td>\n",
       "      <td>0</td>\n",
       "      <td>LVH</td>\n",
       "      <td>174</td>\n",
       "      <td>N</td>\n",
       "      <td>0.0</td>\n",
       "      <td>Flat</td>\n",
       "      <td>1</td>\n",
       "    </tr>\n",
       "    <tr>\n",
       "      <th>917</th>\n",
       "      <td>38</td>\n",
       "      <td>M</td>\n",
       "      <td>NAP</td>\n",
       "      <td>138</td>\n",
       "      <td>175</td>\n",
       "      <td>0</td>\n",
       "      <td>Normal</td>\n",
       "      <td>173</td>\n",
       "      <td>N</td>\n",
       "      <td>0.0</td>\n",
       "      <td>Up</td>\n",
       "      <td>0</td>\n",
       "    </tr>\n",
       "  </tbody>\n",
       "</table>\n",
       "<p>918 rows × 12 columns</p>\n",
       "</div>"
      ],
      "text/plain": [
       "     Age Sex ChestPainType  RestingBP  Cholesterol  FastingBS RestingECG  \\\n",
       "0     40   M           ATA        140          289          0     Normal   \n",
       "1     49   F           NAP        160          180          0     Normal   \n",
       "2     37   M           ATA        130          283          0         ST   \n",
       "3     48   F           ASY        138          214          0     Normal   \n",
       "4     54   M           NAP        150          195          0     Normal   \n",
       "..   ...  ..           ...        ...          ...        ...        ...   \n",
       "913   45   M            TA        110          264          0     Normal   \n",
       "914   68   M           ASY        144          193          1     Normal   \n",
       "915   57   M           ASY        130          131          0     Normal   \n",
       "916   57   F           ATA        130          236          0        LVH   \n",
       "917   38   M           NAP        138          175          0     Normal   \n",
       "\n",
       "     MaxHR ExerciseAngina  Oldpeak ST_Slope  HeartDisease  \n",
       "0      172              N      0.0       Up             0  \n",
       "1      156              N      1.0     Flat             1  \n",
       "2       98              N      0.0       Up             0  \n",
       "3      108              Y      1.5     Flat             1  \n",
       "4      122              N      0.0       Up             0  \n",
       "..     ...            ...      ...      ...           ...  \n",
       "913    132              N      1.2     Flat             1  \n",
       "914    141              N      3.4     Flat             1  \n",
       "915    115              Y      1.2     Flat             1  \n",
       "916    174              N      0.0     Flat             1  \n",
       "917    173              N      0.0       Up             0  \n",
       "\n",
       "[918 rows x 12 columns]"
      ]
     },
     "execution_count": 6,
     "metadata": {},
     "output_type": "execute_result"
    }
   ],
   "source": [
    "df = pd.read_csv('heartt.csv')\n",
    "df"
   ]
  },
  {
   "cell_type": "code",
   "execution_count": 7,
   "id": "e5ce9c83",
   "metadata": {},
   "outputs": [
    {
     "name": "stdout",
     "output_type": "stream",
     "text": [
      "<class 'pandas.core.frame.DataFrame'>\n",
      "RangeIndex: 918 entries, 0 to 917\n",
      "Data columns (total 12 columns):\n",
      " #   Column          Non-Null Count  Dtype  \n",
      "---  ------          --------------  -----  \n",
      " 0   Age             918 non-null    int64  \n",
      " 1   Sex             918 non-null    object \n",
      " 2   ChestPainType   918 non-null    object \n",
      " 3   RestingBP       918 non-null    int64  \n",
      " 4   Cholesterol     918 non-null    int64  \n",
      " 5   FastingBS       918 non-null    int64  \n",
      " 6   RestingECG      918 non-null    object \n",
      " 7   MaxHR           918 non-null    int64  \n",
      " 8   ExerciseAngina  918 non-null    object \n",
      " 9   Oldpeak         918 non-null    float64\n",
      " 10  ST_Slope        918 non-null    object \n",
      " 11  HeartDisease    918 non-null    int64  \n",
      "dtypes: float64(1), int64(6), object(5)\n",
      "memory usage: 86.2+ KB\n"
     ]
    }
   ],
   "source": [
    "df.info()"
   ]
  },
  {
   "cell_type": "code",
   "execution_count": 8,
   "id": "b67c1a30",
   "metadata": {},
   "outputs": [
    {
     "data": {
      "text/html": [
       "<div>\n",
       "<style scoped>\n",
       "    .dataframe tbody tr th:only-of-type {\n",
       "        vertical-align: middle;\n",
       "    }\n",
       "\n",
       "    .dataframe tbody tr th {\n",
       "        vertical-align: top;\n",
       "    }\n",
       "\n",
       "    .dataframe thead th {\n",
       "        text-align: right;\n",
       "    }\n",
       "</style>\n",
       "<table border=\"1\" class=\"dataframe\">\n",
       "  <thead>\n",
       "    <tr style=\"text-align: right;\">\n",
       "      <th></th>\n",
       "      <th>Age</th>\n",
       "      <th>RestingBP</th>\n",
       "      <th>Cholesterol</th>\n",
       "      <th>FastingBS</th>\n",
       "      <th>MaxHR</th>\n",
       "      <th>Oldpeak</th>\n",
       "      <th>HeartDisease</th>\n",
       "    </tr>\n",
       "  </thead>\n",
       "  <tbody>\n",
       "    <tr>\n",
       "      <th>count</th>\n",
       "      <td>918.000000</td>\n",
       "      <td>918.000000</td>\n",
       "      <td>918.000000</td>\n",
       "      <td>918.000000</td>\n",
       "      <td>918.000000</td>\n",
       "      <td>918.000000</td>\n",
       "      <td>918.000000</td>\n",
       "    </tr>\n",
       "    <tr>\n",
       "      <th>mean</th>\n",
       "      <td>53.510893</td>\n",
       "      <td>132.396514</td>\n",
       "      <td>198.799564</td>\n",
       "      <td>0.233115</td>\n",
       "      <td>136.809368</td>\n",
       "      <td>0.887364</td>\n",
       "      <td>0.553377</td>\n",
       "    </tr>\n",
       "    <tr>\n",
       "      <th>std</th>\n",
       "      <td>9.432617</td>\n",
       "      <td>18.514154</td>\n",
       "      <td>109.384145</td>\n",
       "      <td>0.423046</td>\n",
       "      <td>25.460334</td>\n",
       "      <td>1.066570</td>\n",
       "      <td>0.497414</td>\n",
       "    </tr>\n",
       "    <tr>\n",
       "      <th>min</th>\n",
       "      <td>28.000000</td>\n",
       "      <td>0.000000</td>\n",
       "      <td>0.000000</td>\n",
       "      <td>0.000000</td>\n",
       "      <td>60.000000</td>\n",
       "      <td>-2.600000</td>\n",
       "      <td>0.000000</td>\n",
       "    </tr>\n",
       "    <tr>\n",
       "      <th>25%</th>\n",
       "      <td>47.000000</td>\n",
       "      <td>120.000000</td>\n",
       "      <td>173.250000</td>\n",
       "      <td>0.000000</td>\n",
       "      <td>120.000000</td>\n",
       "      <td>0.000000</td>\n",
       "      <td>0.000000</td>\n",
       "    </tr>\n",
       "    <tr>\n",
       "      <th>50%</th>\n",
       "      <td>54.000000</td>\n",
       "      <td>130.000000</td>\n",
       "      <td>223.000000</td>\n",
       "      <td>0.000000</td>\n",
       "      <td>138.000000</td>\n",
       "      <td>0.600000</td>\n",
       "      <td>1.000000</td>\n",
       "    </tr>\n",
       "    <tr>\n",
       "      <th>75%</th>\n",
       "      <td>60.000000</td>\n",
       "      <td>140.000000</td>\n",
       "      <td>267.000000</td>\n",
       "      <td>0.000000</td>\n",
       "      <td>156.000000</td>\n",
       "      <td>1.500000</td>\n",
       "      <td>1.000000</td>\n",
       "    </tr>\n",
       "    <tr>\n",
       "      <th>max</th>\n",
       "      <td>77.000000</td>\n",
       "      <td>200.000000</td>\n",
       "      <td>603.000000</td>\n",
       "      <td>1.000000</td>\n",
       "      <td>202.000000</td>\n",
       "      <td>6.200000</td>\n",
       "      <td>1.000000</td>\n",
       "    </tr>\n",
       "  </tbody>\n",
       "</table>\n",
       "</div>"
      ],
      "text/plain": [
       "              Age   RestingBP  Cholesterol   FastingBS       MaxHR  \\\n",
       "count  918.000000  918.000000   918.000000  918.000000  918.000000   \n",
       "mean    53.510893  132.396514   198.799564    0.233115  136.809368   \n",
       "std      9.432617   18.514154   109.384145    0.423046   25.460334   \n",
       "min     28.000000    0.000000     0.000000    0.000000   60.000000   \n",
       "25%     47.000000  120.000000   173.250000    0.000000  120.000000   \n",
       "50%     54.000000  130.000000   223.000000    0.000000  138.000000   \n",
       "75%     60.000000  140.000000   267.000000    0.000000  156.000000   \n",
       "max     77.000000  200.000000   603.000000    1.000000  202.000000   \n",
       "\n",
       "          Oldpeak  HeartDisease  \n",
       "count  918.000000    918.000000  \n",
       "mean     0.887364      0.553377  \n",
       "std      1.066570      0.497414  \n",
       "min     -2.600000      0.000000  \n",
       "25%      0.000000      0.000000  \n",
       "50%      0.600000      1.000000  \n",
       "75%      1.500000      1.000000  \n",
       "max      6.200000      1.000000  "
      ]
     },
     "execution_count": 8,
     "metadata": {},
     "output_type": "execute_result"
    }
   ],
   "source": [
    "df.describe()"
   ]
  },
  {
   "cell_type": "markdown",
   "id": "fc29dd99",
   "metadata": {},
   "source": [
    "#   <font color =red size =6>Exploratory Data Analysis"
   ]
  },
  {
   "cell_type": "markdown",
   "id": "fe4ce279",
   "metadata": {},
   "source": [
    "# 1.Age"
   ]
  },
  {
   "cell_type": "code",
   "execution_count": 9,
   "id": "f8bcc407",
   "metadata": {},
   "outputs": [
    {
     "data": {
      "text/plain": [
       "<AxesSubplot:xlabel='Age'>"
      ]
     },
     "execution_count": 9,
     "metadata": {},
     "output_type": "execute_result"
    },
    {
     "data": {
      "image/png": "[encoded data removed]",
      "text/plain": [
       "<Figure size 432x288 with 1 Axes>"
      ]
     },
     "metadata": {
      "needs_background": "light"
     },
     "output_type": "display_data"
    }
   ],
   "source": [
    "import seaborn as sns\n",
    "sns.boxplot(df[\"Age\"])"
   ]
  },
  {
   "cell_type": "markdown",
   "id": "15b79f45",
   "metadata": {},
   "source": [
    "# 2.Sex"
   ]
  },
  {
   "cell_type": "code",
   "execution_count": 10,
   "id": "16cb2432",
   "metadata": {},
   "outputs": [
    {
     "data": {
      "text/plain": [
       "M    725\n",
       "F    193\n",
       "Name: Sex, dtype: int64"
      ]
     },
     "execution_count": 10,
     "metadata": {},
     "output_type": "execute_result"
    }
   ],
   "source": [
    "df[\"Sex\"].value_counts()"
   ]
  },
  {
   "cell_type": "code",
   "execution_count": 11,
   "id": "eb1e48d0",
   "metadata": {},
   "outputs": [],
   "source": [
    "df[\"Sex\"].replace({\"M\":1,\"F\":0},inplace=True)\n"
   ]
  },
  {
   "cell_type": "markdown",
   "id": "9a53cb52",
   "metadata": {},
   "source": [
    "# 3.ChestPainType"
   ]
  },
  {
   "cell_type": "code",
   "execution_count": 12,
   "id": "f1dfd1ea",
   "metadata": {},
   "outputs": [
    {
     "data": {
      "text/plain": [
       "ASY    496\n",
       "NAP    203\n",
       "ATA    173\n",
       "TA      46\n",
       "Name: ChestPainType, dtype: int64"
      ]
     },
     "execution_count": 12,
     "metadata": {},
     "output_type": "execute_result"
    }
   ],
   "source": [
    "df[\"ChestPainType\"].value_counts()"
   ]
  },
  {
   "cell_type": "code",
   "execution_count": 13,
   "id": "253cdf60",
   "metadata": {},
   "outputs": [],
   "source": [
    "df[\"ChestPainType\"].replace({\"TA\":1,\"ATA\":2,\"NAP\":3,\"ASY\":4},inplace=True)\n"
   ]
  },
  {
   "cell_type": "code",
   "execution_count": 14,
   "id": "601c9007",
   "metadata": {},
   "outputs": [],
   "source": [
    "#1: typical angina(TA) ,2: atypical angina(ATA),3: non-anginal pain(NAP) ,4: asymptomatic(ASY)"
   ]
  },
  {
   "cell_type": "markdown",
   "id": "feb38c98",
   "metadata": {},
   "source": [
    "# 4.RestingBP"
   ]
  },
  {
   "cell_type": "code",
   "execution_count": 15,
   "id": "ed136791",
   "metadata": {},
   "outputs": [
    {
     "data": {
      "text/plain": [
       "<AxesSubplot:xlabel='RestingBP'>"
      ]
     },
     "execution_count": 15,
     "metadata": {},
     "output_type": "execute_result"
    },
    {
     "data": {
      "image/png": "[encoded data removed]",
      "text/plain": [
       "<Figure size 432x288 with 1 Axes>"
      ]
     },
     "metadata": {
      "needs_background": "light"
     },
     "output_type": "display_data"
    }
   ],
   "source": [
    "sns.boxplot(df[\"RestingBP\"])"
   ]
  },
  {
   "cell_type": "code",
   "execution_count": 16,
   "id": "839cac17",
   "metadata": {},
   "outputs": [
    {
     "name": "stdout",
     "output_type": "stream",
     "text": [
      "upper_tail 170.0\n",
      "lower_tail 110.0\n"
     ]
    },
    {
     "data": {
      "text/plain": [
       "<AxesSubplot:xlabel='RestingBP'>"
      ]
     },
     "execution_count": 16,
     "metadata": {},
     "output_type": "execute_result"
    },
    {
     "data": {
      "image/png": "[encoded data removed]",
      "text/plain": [
       "<Figure size 432x288 with 1 Axes>"
      ]
     },
     "metadata": {
      "needs_background": "light"
     },
     "output_type": "display_data"
    }
   ],
   "source": [
    "q1=df[\"RestingBP\"].quantile(0.25)\n",
    "q3=df[\"RestingBP\"].quantile(0.75)\n",
    "upper_tail=q3+1.5*(q3-q1)\n",
    "print(\"upper_tail\",upper_tail)\n",
    "lower_tail=q3-1.5*(q3-q1)\n",
    "print(\"lower_tail\",lower_tail)\n",
    "df=df.loc[(df[\"RestingBP\"]<upper_tail)&(df[\"RestingBP\"]>lower_tail)]\n",
    "sns.boxplot(df[\"RestingBP\"])"
   ]
  },
  {
   "cell_type": "markdown",
   "id": "503d6ece",
   "metadata": {},
   "source": [
    "# 5.Cholesterol"
   ]
  },
  {
   "cell_type": "code",
   "execution_count": 17,
   "id": "c2d8ab3e",
   "metadata": {},
   "outputs": [
    {
     "data": {
      "text/plain": [
       "<AxesSubplot:xlabel='Cholesterol'>"
      ]
     },
     "execution_count": 17,
     "metadata": {},
     "output_type": "execute_result"
    },
    {
     "data": {
      "image/png": "[encoded data removed]",
      "text/plain": [
       "<Figure size 432x288 with 1 Axes>"
      ]
     },
     "metadata": {
      "needs_background": "light"
     },
     "output_type": "display_data"
    }
   ],
   "source": [
    "sns.boxplot(df[\"Cholesterol\"])"
   ]
  },
  {
   "cell_type": "code",
   "execution_count": 18,
   "id": "f9f40fb8",
   "metadata": {},
   "outputs": [
    {
     "name": "stdout",
     "output_type": "stream",
     "text": [
      "upper_tail 407.0\n",
      "lower_tail 131.0\n"
     ]
    },
    {
     "data": {
      "text/plain": [
       "<AxesSubplot:xlabel='Cholesterol'>"
      ]
     },
     "execution_count": 18,
     "metadata": {},
     "output_type": "execute_result"
    },
    {
     "data": {
      "image/png": "[encoded data removed]",
      "text/plain": [
       "<Figure size 432x288 with 1 Axes>"
      ]
     },
     "metadata": {
      "needs_background": "light"
     },
     "output_type": "display_data"
    }
   ],
   "source": [
    "q1=df[\"Cholesterol\"].quantile(0.25)\n",
    "q3=df[\"Cholesterol\"].quantile(0.75)\n",
    "upper_tail=q3+1.5*(q3-q1)\n",
    "print(\"upper_tail\",upper_tail)\n",
    "lower_tail=q3-1.5*(q3-q1)\n",
    "print(\"lower_tail\",lower_tail)\n",
    "df=df.loc[(df[\"Cholesterol\"]<upper_tail)&(df[\"Cholesterol\"]>lower_tail)]\n",
    "sns.boxplot(df[\"Cholesterol\"])"
   ]
  },
  {
   "cell_type": "markdown",
   "id": "306cc440",
   "metadata": {},
   "source": [
    "# 6.FastingBS"
   ]
  },
  {
   "cell_type": "code",
   "execution_count": 19,
   "id": "2f1edb12",
   "metadata": {},
   "outputs": [
    {
     "data": {
      "text/plain": [
       "0    509\n",
       "1    103\n",
       "Name: FastingBS, dtype: int64"
      ]
     },
     "execution_count": 19,
     "metadata": {},
     "output_type": "execute_result"
    }
   ],
   "source": [
    "df[\"FastingBS\"].value_counts()"
   ]
  },
  {
   "cell_type": "markdown",
   "id": "b02a7065",
   "metadata": {},
   "source": [
    "# 7.RestingECG"
   ]
  },
  {
   "cell_type": "code",
   "execution_count": 20,
   "id": "d3d88cb0",
   "metadata": {},
   "outputs": [
    {
     "data": {
      "text/plain": [
       "Normal    364\n",
       "LVH       143\n",
       "ST        105\n",
       "Name: RestingECG, dtype: int64"
      ]
     },
     "execution_count": 20,
     "metadata": {},
     "output_type": "execute_result"
    }
   ],
   "source": [
    "df[\"RestingECG\"].value_counts()"
   ]
  },
  {
   "cell_type": "code",
   "execution_count": 21,
   "id": "24af92fe",
   "metadata": {},
   "outputs": [],
   "source": [
    "df[\"RestingECG\"].replace({\"Normal\":0,\"LVH\":1,\"ST\":2},inplace=True)"
   ]
  },
  {
   "cell_type": "code",
   "execution_count": 22,
   "id": "4fd62d0a",
   "metadata": {},
   "outputs": [],
   "source": [
    "# df_RestingECG=pd.get_dummies(df[\"RestingECG\"])\n",
    "# df_RestingECG"
   ]
  },
  {
   "cell_type": "markdown",
   "id": "622a9411",
   "metadata": {},
   "source": [
    "# 8.MaxHR"
   ]
  },
  {
   "cell_type": "code",
   "execution_count": 23,
   "id": "4c60c09f",
   "metadata": {},
   "outputs": [
    {
     "data": {
      "text/plain": [
       "<AxesSubplot:xlabel='MaxHR'>"
      ]
     },
     "execution_count": 23,
     "metadata": {},
     "output_type": "execute_result"
    },
    {
     "data": {
      "image/png": "[encoded data removed]",
      "text/plain": [
       "<Figure size 432x288 with 1 Axes>"
      ]
     },
     "metadata": {
      "needs_background": "light"
     },
     "output_type": "display_data"
    }
   ],
   "source": [
    "sns.boxplot(df[\"MaxHR\"])"
   ]
  },
  {
   "cell_type": "markdown",
   "id": "5be2e295",
   "metadata": {},
   "source": [
    "# 9.ExerciseAngina"
   ]
  },
  {
   "cell_type": "code",
   "execution_count": 24,
   "id": "6639c854",
   "metadata": {},
   "outputs": [
    {
     "data": {
      "text/plain": [
       "N    375\n",
       "Y    237\n",
       "Name: ExerciseAngina, dtype: int64"
      ]
     },
     "execution_count": 24,
     "metadata": {},
     "output_type": "execute_result"
    }
   ],
   "source": [
    "df[\"ExerciseAngina\"].value_counts()"
   ]
  },
  {
   "cell_type": "code",
   "execution_count": 25,
   "id": "ad49599c",
   "metadata": {},
   "outputs": [],
   "source": [
    "df[\"ExerciseAngina\"].replace({\"N\":0,\"Y\":1},inplace=True)"
   ]
  },
  {
   "cell_type": "markdown",
   "id": "4f804917",
   "metadata": {},
   "source": [
    "# 10.Oldpeak"
   ]
  },
  {
   "cell_type": "code",
   "execution_count": 26,
   "id": "014ad925",
   "metadata": {},
   "outputs": [
    {
     "data": {
      "text/plain": [
       "<AxesSubplot:xlabel='Oldpeak'>"
      ]
     },
     "execution_count": 26,
     "metadata": {},
     "output_type": "execute_result"
    },
    {
     "data": {
      "image/png": "[encoded data removed]",
      "text/plain": [
       "<Figure size 432x288 with 1 Axes>"
      ]
     },
     "metadata": {
      "needs_background": "light"
     },
     "output_type": "display_data"
    }
   ],
   "source": [
    "sns.boxplot(df[\"Oldpeak\"])"
   ]
  },
  {
   "cell_type": "code",
   "execution_count": 27,
   "id": "d2fa3dcf",
   "metadata": {},
   "outputs": [
    {
     "name": "stdout",
     "output_type": "stream",
     "text": [
      "upper_tail 4.0\n",
      "lower_tail -0.8000000000000003\n"
     ]
    },
    {
     "data": {
      "text/plain": [
       "<AxesSubplot:xlabel='Oldpeak'>"
      ]
     },
     "execution_count": 27,
     "metadata": {},
     "output_type": "execute_result"
    },
    {
     "data": {
      "image/png": "[encoded data removed]",
      "text/plain": [
       "<Figure size 432x288 with 1 Axes>"
      ]
     },
     "metadata": {
      "needs_background": "light"
     },
     "output_type": "display_data"
    }
   ],
   "source": [
    "q1=df[\"Oldpeak\"].quantile(0.25)\n",
    "q3=df[\"Oldpeak\"].quantile(0.75)\n",
    "upper_tail=q3+1.5*(q3-q1)\n",
    "print(\"upper_tail\",upper_tail)\n",
    "lower_tail=q3-1.5*(q3-q1)\n",
    "print(\"lower_tail\",lower_tail)\n",
    "df=df.loc[(df[\"Oldpeak\"]<upper_tail)]\n",
    "sns.boxplot(df[\"Oldpeak\"])"
   ]
  },
  {
   "cell_type": "code",
   "execution_count": 28,
   "id": "6964cdcd",
   "metadata": {},
   "outputs": [
    {
     "data": {
      "text/plain": [
       "0.9334005546311702"
      ]
     },
     "execution_count": 28,
     "metadata": {},
     "output_type": "execute_result"
    }
   ],
   "source": [
    "df['Oldpeak'].var()"
   ]
  },
  {
   "cell_type": "markdown",
   "id": "341dea0e",
   "metadata": {},
   "source": [
    "# 11.ST_Slope"
   ]
  },
  {
   "cell_type": "code",
   "execution_count": 29,
   "id": "e5749633",
   "metadata": {},
   "outputs": [
    {
     "data": {
      "text/plain": [
       "Flat    288\n",
       "Up      287\n",
       "Down     26\n",
       "Name: ST_Slope, dtype: int64"
      ]
     },
     "execution_count": 29,
     "metadata": {},
     "output_type": "execute_result"
    }
   ],
   "source": [
    "df[\"ST_Slope\"].value_counts()"
   ]
  },
  {
   "cell_type": "code",
   "execution_count": 30,
   "id": "105f59e2",
   "metadata": {},
   "outputs": [],
   "source": [
    "df[\"ST_Slope\"].replace({\"Down\":0,\"Flat\":1,\"Up\":2},inplace=True)"
   ]
  },
  {
   "cell_type": "markdown",
   "id": "b7c324ab",
   "metadata": {},
   "source": [
    "#   <font color =red size =6>Feature Scaling"
   ]
  },
  {
   "cell_type": "code",
   "execution_count": 31,
   "id": "744f8ff8",
   "metadata": {},
   "outputs": [],
   "source": [
    "x = df.drop('HeartDisease',axis = 1)\n",
    "y = df['HeartDisease']"
   ]
  },
  {
   "cell_type": "code",
   "execution_count": 32,
   "id": "eea7b21b",
   "metadata": {},
   "outputs": [],
   "source": [
    "from sklearn.preprocessing import MinMaxScaler,StandardScaler"
   ]
  },
  {
   "cell_type": "code",
   "execution_count": 33,
   "id": "30d3617f",
   "metadata": {},
   "outputs": [
    {
     "data": {
      "text/html": [
       "<div>\n",
       "<style scoped>\n",
       "    .dataframe tbody tr th:only-of-type {\n",
       "        vertical-align: middle;\n",
       "    }\n",
       "\n",
       "    .dataframe tbody tr th {\n",
       "        vertical-align: top;\n",
       "    }\n",
       "\n",
       "    .dataframe thead th {\n",
       "        text-align: right;\n",
       "    }\n",
       "</style>\n",
       "<table border=\"1\" class=\"dataframe\">\n",
       "  <thead>\n",
       "    <tr style=\"text-align: right;\">\n",
       "      <th></th>\n",
       "      <th>Age</th>\n",
       "      <th>Sex</th>\n",
       "      <th>ChestPainType</th>\n",
       "      <th>RestingBP</th>\n",
       "      <th>Cholesterol</th>\n",
       "      <th>FastingBS</th>\n",
       "      <th>RestingECG</th>\n",
       "      <th>MaxHR</th>\n",
       "      <th>ExerciseAngina</th>\n",
       "      <th>Oldpeak</th>\n",
       "      <th>ST_Slope</th>\n",
       "    </tr>\n",
       "  </thead>\n",
       "  <tbody>\n",
       "    <tr>\n",
       "      <th>0</th>\n",
       "      <td>0.244898</td>\n",
       "      <td>1.0</td>\n",
       "      <td>0.333333</td>\n",
       "      <td>0.528302</td>\n",
       "      <td>0.577206</td>\n",
       "      <td>0.0</td>\n",
       "      <td>0.0</td>\n",
       "      <td>0.770992</td>\n",
       "      <td>0.0</td>\n",
       "      <td>0.025641</td>\n",
       "      <td>1.0</td>\n",
       "    </tr>\n",
       "    <tr>\n",
       "      <th>1</th>\n",
       "      <td>0.428571</td>\n",
       "      <td>0.0</td>\n",
       "      <td>0.666667</td>\n",
       "      <td>0.905660</td>\n",
       "      <td>0.176471</td>\n",
       "      <td>0.0</td>\n",
       "      <td>0.0</td>\n",
       "      <td>0.648855</td>\n",
       "      <td>0.0</td>\n",
       "      <td>0.282051</td>\n",
       "      <td>0.5</td>\n",
       "    </tr>\n",
       "    <tr>\n",
       "      <th>2</th>\n",
       "      <td>0.183673</td>\n",
       "      <td>1.0</td>\n",
       "      <td>0.333333</td>\n",
       "      <td>0.339623</td>\n",
       "      <td>0.555147</td>\n",
       "      <td>0.0</td>\n",
       "      <td>1.0</td>\n",
       "      <td>0.206107</td>\n",
       "      <td>0.0</td>\n",
       "      <td>0.025641</td>\n",
       "      <td>1.0</td>\n",
       "    </tr>\n",
       "    <tr>\n",
       "      <th>3</th>\n",
       "      <td>0.408163</td>\n",
       "      <td>0.0</td>\n",
       "      <td>1.000000</td>\n",
       "      <td>0.490566</td>\n",
       "      <td>0.301471</td>\n",
       "      <td>0.0</td>\n",
       "      <td>0.0</td>\n",
       "      <td>0.282443</td>\n",
       "      <td>1.0</td>\n",
       "      <td>0.410256</td>\n",
       "      <td>0.5</td>\n",
       "    </tr>\n",
       "    <tr>\n",
       "      <th>4</th>\n",
       "      <td>0.530612</td>\n",
       "      <td>1.0</td>\n",
       "      <td>0.666667</td>\n",
       "      <td>0.716981</td>\n",
       "      <td>0.231618</td>\n",
       "      <td>0.0</td>\n",
       "      <td>0.0</td>\n",
       "      <td>0.389313</td>\n",
       "      <td>0.0</td>\n",
       "      <td>0.025641</td>\n",
       "      <td>1.0</td>\n",
       "    </tr>\n",
       "    <tr>\n",
       "      <th>...</th>\n",
       "      <td>...</td>\n",
       "      <td>...</td>\n",
       "      <td>...</td>\n",
       "      <td>...</td>\n",
       "      <td>...</td>\n",
       "      <td>...</td>\n",
       "      <td>...</td>\n",
       "      <td>...</td>\n",
       "      <td>...</td>\n",
       "      <td>...</td>\n",
       "      <td>...</td>\n",
       "    </tr>\n",
       "    <tr>\n",
       "      <th>596</th>\n",
       "      <td>0.632653</td>\n",
       "      <td>1.0</td>\n",
       "      <td>1.000000</td>\n",
       "      <td>0.981132</td>\n",
       "      <td>0.161765</td>\n",
       "      <td>1.0</td>\n",
       "      <td>0.5</td>\n",
       "      <td>0.145038</td>\n",
       "      <td>0.0</td>\n",
       "      <td>0.282051</td>\n",
       "      <td>0.5</td>\n",
       "    </tr>\n",
       "    <tr>\n",
       "      <th>597</th>\n",
       "      <td>0.591837</td>\n",
       "      <td>0.0</td>\n",
       "      <td>1.000000</td>\n",
       "      <td>0.528302</td>\n",
       "      <td>0.400735</td>\n",
       "      <td>0.0</td>\n",
       "      <td>0.0</td>\n",
       "      <td>0.396947</td>\n",
       "      <td>1.0</td>\n",
       "      <td>0.076923</td>\n",
       "      <td>0.5</td>\n",
       "    </tr>\n",
       "    <tr>\n",
       "      <th>598</th>\n",
       "      <td>0.816327</td>\n",
       "      <td>1.0</td>\n",
       "      <td>1.000000</td>\n",
       "      <td>0.603774</td>\n",
       "      <td>0.224265</td>\n",
       "      <td>1.0</td>\n",
       "      <td>0.0</td>\n",
       "      <td>0.534351</td>\n",
       "      <td>0.0</td>\n",
       "      <td>0.897436</td>\n",
       "      <td>0.5</td>\n",
       "    </tr>\n",
       "    <tr>\n",
       "      <th>599</th>\n",
       "      <td>0.591837</td>\n",
       "      <td>0.0</td>\n",
       "      <td>0.333333</td>\n",
       "      <td>0.339623</td>\n",
       "      <td>0.382353</td>\n",
       "      <td>0.0</td>\n",
       "      <td>0.5</td>\n",
       "      <td>0.786260</td>\n",
       "      <td>0.0</td>\n",
       "      <td>0.025641</td>\n",
       "      <td>0.5</td>\n",
       "    </tr>\n",
       "    <tr>\n",
       "      <th>600</th>\n",
       "      <td>0.204082</td>\n",
       "      <td>1.0</td>\n",
       "      <td>0.666667</td>\n",
       "      <td>0.490566</td>\n",
       "      <td>0.158088</td>\n",
       "      <td>0.0</td>\n",
       "      <td>0.0</td>\n",
       "      <td>0.778626</td>\n",
       "      <td>0.0</td>\n",
       "      <td>0.025641</td>\n",
       "      <td>1.0</td>\n",
       "    </tr>\n",
       "  </tbody>\n",
       "</table>\n",
       "<p>601 rows × 11 columns</p>\n",
       "</div>"
      ],
      "text/plain": [
       "          Age  Sex  ChestPainType  RestingBP  Cholesterol  FastingBS  \\\n",
       "0    0.244898  1.0       0.333333   0.528302     0.577206        0.0   \n",
       "1    0.428571  0.0       0.666667   0.905660     0.176471        0.0   \n",
       "2    0.183673  1.0       0.333333   0.339623     0.555147        0.0   \n",
       "3    0.408163  0.0       1.000000   0.490566     0.301471        0.0   \n",
       "4    0.530612  1.0       0.666667   0.716981     0.231618        0.0   \n",
       "..        ...  ...            ...        ...          ...        ...   \n",
       "596  0.632653  1.0       1.000000   0.981132     0.161765        1.0   \n",
       "597  0.591837  0.0       1.000000   0.528302     0.400735        0.0   \n",
       "598  0.816327  1.0       1.000000   0.603774     0.224265        1.0   \n",
       "599  0.591837  0.0       0.333333   0.339623     0.382353        0.0   \n",
       "600  0.204082  1.0       0.666667   0.490566     0.158088        0.0   \n",
       "\n",
       "     RestingECG     MaxHR  ExerciseAngina   Oldpeak  ST_Slope  \n",
       "0           0.0  0.770992             0.0  0.025641       1.0  \n",
       "1           0.0  0.648855             0.0  0.282051       0.5  \n",
       "2           1.0  0.206107             0.0  0.025641       1.0  \n",
       "3           0.0  0.282443             1.0  0.410256       0.5  \n",
       "4           0.0  0.389313             0.0  0.025641       1.0  \n",
       "..          ...       ...             ...       ...       ...  \n",
       "596         0.5  0.145038             0.0  0.282051       0.5  \n",
       "597         0.0  0.396947             1.0  0.076923       0.5  \n",
       "598         0.0  0.534351             0.0  0.897436       0.5  \n",
       "599         0.5  0.786260             0.0  0.025641       0.5  \n",
       "600         0.0  0.778626             0.0  0.025641       1.0  \n",
       "\n",
       "[601 rows x 11 columns]"
      ]
     },
     "execution_count": 33,
     "metadata": {},
     "output_type": "execute_result"
    }
   ],
   "source": [
    "normal_scaler = MinMaxScaler()\n",
    "x_scaled = normal_scaler.fit_transform(x)\n",
    "x_normal_df = pd.DataFrame(x_scaled,columns= x.columns)\n",
    "x_normal_df"
   ]
  },
  {
   "cell_type": "code",
   "execution_count": 34,
   "id": "e4d5b051",
   "metadata": {},
   "outputs": [
    {
     "data": {
      "text/html": [
       "<div>\n",
       "<style scoped>\n",
       "    .dataframe tbody tr th:only-of-type {\n",
       "        vertical-align: middle;\n",
       "    }\n",
       "\n",
       "    .dataframe tbody tr th {\n",
       "        vertical-align: top;\n",
       "    }\n",
       "\n",
       "    .dataframe thead th {\n",
       "        text-align: right;\n",
       "    }\n",
       "</style>\n",
       "<table border=\"1\" class=\"dataframe\">\n",
       "  <thead>\n",
       "    <tr style=\"text-align: right;\">\n",
       "      <th></th>\n",
       "      <th>Age</th>\n",
       "      <th>Sex</th>\n",
       "      <th>ChestPainType</th>\n",
       "      <th>RestingBP</th>\n",
       "      <th>Cholesterol</th>\n",
       "      <th>FastingBS</th>\n",
       "      <th>RestingECG</th>\n",
       "      <th>MaxHR</th>\n",
       "      <th>ExerciseAngina</th>\n",
       "      <th>Oldpeak</th>\n",
       "      <th>ST_Slope</th>\n",
       "    </tr>\n",
       "  </thead>\n",
       "  <tbody>\n",
       "    <tr>\n",
       "      <th>0</th>\n",
       "      <td>-1.380713</td>\n",
       "      <td>0.556209</td>\n",
       "      <td>-1.189520</td>\n",
       "      <td>0.481819</td>\n",
       "      <td>0.940110</td>\n",
       "      <td>-0.452116</td>\n",
       "      <td>-0.746151</td>\n",
       "      <td>1.277831</td>\n",
       "      <td>-0.781831</td>\n",
       "      <td>-0.886826</td>\n",
       "      <td>0.981528</td>\n",
       "    </tr>\n",
       "    <tr>\n",
       "      <th>1</th>\n",
       "      <td>-0.420657</td>\n",
       "      <td>-1.797886</td>\n",
       "      <td>-0.139738</td>\n",
       "      <td>2.100452</td>\n",
       "      <td>-1.279913</td>\n",
       "      <td>-0.452116</td>\n",
       "      <td>-0.746151</td>\n",
       "      <td>0.628551</td>\n",
       "      <td>-0.781831</td>\n",
       "      <td>0.149097</td>\n",
       "      <td>-0.753467</td>\n",
       "    </tr>\n",
       "    <tr>\n",
       "      <th>2</th>\n",
       "      <td>-1.700732</td>\n",
       "      <td>0.556209</td>\n",
       "      <td>-1.189520</td>\n",
       "      <td>-0.327497</td>\n",
       "      <td>0.817907</td>\n",
       "      <td>-0.452116</td>\n",
       "      <td>1.883977</td>\n",
       "      <td>-1.725089</td>\n",
       "      <td>-0.781831</td>\n",
       "      <td>-0.886826</td>\n",
       "      <td>0.981528</td>\n",
       "    </tr>\n",
       "    <tr>\n",
       "      <th>3</th>\n",
       "      <td>-0.527330</td>\n",
       "      <td>-1.797886</td>\n",
       "      <td>0.910044</td>\n",
       "      <td>0.319956</td>\n",
       "      <td>-0.587429</td>\n",
       "      <td>-0.452116</td>\n",
       "      <td>-0.746151</td>\n",
       "      <td>-1.319289</td>\n",
       "      <td>1.279048</td>\n",
       "      <td>0.667059</td>\n",
       "      <td>-0.753467</td>\n",
       "    </tr>\n",
       "    <tr>\n",
       "      <th>4</th>\n",
       "      <td>0.112708</td>\n",
       "      <td>0.556209</td>\n",
       "      <td>-0.139738</td>\n",
       "      <td>1.291136</td>\n",
       "      <td>-0.974405</td>\n",
       "      <td>-0.452116</td>\n",
       "      <td>-0.746151</td>\n",
       "      <td>-0.751169</td>\n",
       "      <td>-0.781831</td>\n",
       "      <td>-0.886826</td>\n",
       "      <td>0.981528</td>\n",
       "    </tr>\n",
       "    <tr>\n",
       "      <th>...</th>\n",
       "      <td>...</td>\n",
       "      <td>...</td>\n",
       "      <td>...</td>\n",
       "      <td>...</td>\n",
       "      <td>...</td>\n",
       "      <td>...</td>\n",
       "      <td>...</td>\n",
       "      <td>...</td>\n",
       "      <td>...</td>\n",
       "      <td>...</td>\n",
       "      <td>...</td>\n",
       "    </tr>\n",
       "    <tr>\n",
       "      <th>596</th>\n",
       "      <td>0.646072</td>\n",
       "      <td>0.556209</td>\n",
       "      <td>0.910044</td>\n",
       "      <td>2.424179</td>\n",
       "      <td>-1.361382</td>\n",
       "      <td>2.211822</td>\n",
       "      <td>0.568913</td>\n",
       "      <td>-2.049729</td>\n",
       "      <td>-0.781831</td>\n",
       "      <td>0.149097</td>\n",
       "      <td>-0.753467</td>\n",
       "    </tr>\n",
       "    <tr>\n",
       "      <th>597</th>\n",
       "      <td>0.432726</td>\n",
       "      <td>-1.797886</td>\n",
       "      <td>0.910044</td>\n",
       "      <td>0.481819</td>\n",
       "      <td>-0.037515</td>\n",
       "      <td>-0.452116</td>\n",
       "      <td>-0.746151</td>\n",
       "      <td>-0.710589</td>\n",
       "      <td>1.279048</td>\n",
       "      <td>-0.679641</td>\n",
       "      <td>-0.753467</td>\n",
       "    </tr>\n",
       "    <tr>\n",
       "      <th>598</th>\n",
       "      <td>1.606128</td>\n",
       "      <td>0.556209</td>\n",
       "      <td>0.910044</td>\n",
       "      <td>0.805546</td>\n",
       "      <td>-1.015140</td>\n",
       "      <td>2.211822</td>\n",
       "      <td>-0.746151</td>\n",
       "      <td>0.019851</td>\n",
       "      <td>-0.781831</td>\n",
       "      <td>2.635313</td>\n",
       "      <td>-0.753467</td>\n",
       "    </tr>\n",
       "    <tr>\n",
       "      <th>599</th>\n",
       "      <td>0.432726</td>\n",
       "      <td>-1.797886</td>\n",
       "      <td>-1.189520</td>\n",
       "      <td>-0.327497</td>\n",
       "      <td>-0.139351</td>\n",
       "      <td>-0.452116</td>\n",
       "      <td>0.568913</td>\n",
       "      <td>1.358991</td>\n",
       "      <td>-0.781831</td>\n",
       "      <td>-0.886826</td>\n",
       "      <td>-0.753467</td>\n",
       "    </tr>\n",
       "    <tr>\n",
       "      <th>600</th>\n",
       "      <td>-1.594059</td>\n",
       "      <td>0.556209</td>\n",
       "      <td>-0.139738</td>\n",
       "      <td>0.319956</td>\n",
       "      <td>-1.381749</td>\n",
       "      <td>-0.452116</td>\n",
       "      <td>-0.746151</td>\n",
       "      <td>1.318411</td>\n",
       "      <td>-0.781831</td>\n",
       "      <td>-0.886826</td>\n",
       "      <td>0.981528</td>\n",
       "    </tr>\n",
       "  </tbody>\n",
       "</table>\n",
       "<p>601 rows × 11 columns</p>\n",
       "</div>"
      ],
      "text/plain": [
       "          Age       Sex  ChestPainType  RestingBP  Cholesterol  FastingBS  \\\n",
       "0   -1.380713  0.556209      -1.189520   0.481819     0.940110  -0.452116   \n",
       "1   -0.420657 -1.797886      -0.139738   2.100452    -1.279913  -0.452116   \n",
       "2   -1.700732  0.556209      -1.189520  -0.327497     0.817907  -0.452116   \n",
       "3   -0.527330 -1.797886       0.910044   0.319956    -0.587429  -0.452116   \n",
       "4    0.112708  0.556209      -0.139738   1.291136    -0.974405  -0.452116   \n",
       "..        ...       ...            ...        ...          ...        ...   \n",
       "596  0.646072  0.556209       0.910044   2.424179    -1.361382   2.211822   \n",
       "597  0.432726 -1.797886       0.910044   0.481819    -0.037515  -0.452116   \n",
       "598  1.606128  0.556209       0.910044   0.805546    -1.015140   2.211822   \n",
       "599  0.432726 -1.797886      -1.189520  -0.327497    -0.139351  -0.452116   \n",
       "600 -1.594059  0.556209      -0.139738   0.319956    -1.381749  -0.452116   \n",
       "\n",
       "     RestingECG     MaxHR  ExerciseAngina   Oldpeak  ST_Slope  \n",
       "0     -0.746151  1.277831       -0.781831 -0.886826  0.981528  \n",
       "1     -0.746151  0.628551       -0.781831  0.149097 -0.753467  \n",
       "2      1.883977 -1.725089       -0.781831 -0.886826  0.981528  \n",
       "3     -0.746151 -1.319289        1.279048  0.667059 -0.753467  \n",
       "4     -0.746151 -0.751169       -0.781831 -0.886826  0.981528  \n",
       "..          ...       ...             ...       ...       ...  \n",
       "596    0.568913 -2.049729       -0.781831  0.149097 -0.753467  \n",
       "597   -0.746151 -0.710589        1.279048 -0.679641 -0.753467  \n",
       "598   -0.746151  0.019851       -0.781831  2.635313 -0.753467  \n",
       "599    0.568913  1.358991       -0.781831 -0.886826 -0.753467  \n",
       "600   -0.746151  1.318411       -0.781831 -0.886826  0.981528  \n",
       "\n",
       "[601 rows x 11 columns]"
      ]
     },
     "execution_count": 34,
     "metadata": {},
     "output_type": "execute_result"
    }
   ],
   "source": [
    "std_scaler = StandardScaler()\n",
    "x_scaled = std_scaler.fit_transform(x)\n",
    "x_std_df = pd.DataFrame(x_scaled,columns= x.columns)\n",
    "x_std_df"
   ]
  },
  {
   "cell_type": "markdown",
   "id": "831e4935",
   "metadata": {},
   "source": [
    "# Train Test Split"
   ]
  },
  {
   "cell_type": "code",
   "execution_count": 35,
   "id": "1ffc44bf",
   "metadata": {},
   "outputs": [],
   "source": [
    "from sklearn.model_selection import train_test_split,GridSearchCV,RandomizedSearchCV"
   ]
  },
  {
   "cell_type": "code",
   "execution_count": 36,
   "id": "ba774700",
   "metadata": {},
   "outputs": [],
   "source": [
    "x_train, x_test,y_train, y_test = train_test_split(x_std_df,y, test_size=0.2, random_state=10, stratify=y)"
   ]
  },
  {
   "cell_type": "markdown",
   "id": "fbe4ef9f",
   "metadata": {},
   "source": [
    "#   <font color =red size =6>Model Training"
   ]
  },
  {
   "cell_type": "code",
   "execution_count": 37,
   "id": "6f629e95",
   "metadata": {},
   "outputs": [],
   "source": [
    "from sklearn.neighbors import KNeighborsClassifier,KNeighborsRegressor"
   ]
  },
  {
   "cell_type": "code",
   "execution_count": 38,
   "id": "5a2d689d",
   "metadata": {},
   "outputs": [
    {
     "data": {
      "text/plain": [
       "KNeighborsClassifier(n_neighbors=12, p=1)"
      ]
     },
     "execution_count": 38,
     "metadata": {},
     "output_type": "execute_result"
    }
   ],
   "source": [
    "knn_model = KNeighborsClassifier(n_neighbors=12,p = 1)\n",
    "knn_model.fit(x_train,y_train)"
   ]
  },
  {
   "cell_type": "markdown",
   "id": "814a0f7c",
   "metadata": {},
   "source": [
    "#   <font color =red size =6>Model Evaluation"
   ]
  },
  {
   "cell_type": "code",
   "execution_count": 39,
   "id": "9bb48637",
   "metadata": {},
   "outputs": [],
   "source": [
    "from sklearn.metrics import confusion_matrix, accuracy_score,classification_report,plot_confusion_matrix"
   ]
  },
  {
   "cell_type": "markdown",
   "id": "e459700a",
   "metadata": {},
   "source": [
    "# Evaluation on Testing Data"
   ]
  },
  {
   "cell_type": "code",
   "execution_count": 40,
   "id": "dd5b7792",
   "metadata": {},
   "outputs": [
    {
     "name": "stdout",
     "output_type": "stream",
     "text": [
      "Confusion Matrix on Testing data is :\n",
      " [[57  7]\n",
      " [10 47]]\n",
      "Classification Report :\n",
      "               precision    recall  f1-score   support\n",
      "\n",
      "           0       0.85      0.89      0.87        64\n",
      "           1       0.87      0.82      0.85        57\n",
      "\n",
      "    accuracy                           0.86       121\n",
      "   macro avg       0.86      0.86      0.86       121\n",
      "weighted avg       0.86      0.86      0.86       121\n",
      "\n",
      "Accuracy score : 0.859504132231405\n"
     ]
    }
   ],
   "source": [
    "y_pred = knn_model.predict(x_test)\n",
    "conf_matrix = confusion_matrix(y_test,y_pred)\n",
    "print(\"Confusion Matrix on Testing data is :\\n\",conf_matrix)\n",
    "\n",
    "clf_report = classification_report(y_test,y_pred)\n",
    "print(\"Classification Report :\\n\",clf_report)\n",
    "\n",
    "acc_score = accuracy_score(y_test,y_pred)\n",
    "print(\"Accuracy score :\",acc_score)"
   ]
  },
  {
   "cell_type": "code",
   "execution_count": 41,
   "id": "26b84c95",
   "metadata": {},
   "outputs": [
    {
     "data": {
      "text/plain": [
       "<sklearn.metrics._plot.confusion_matrix.ConfusionMatrixDisplay at 0x210b8342d10>"
      ]
     },
     "execution_count": 41,
     "metadata": {},
     "output_type": "execute_result"
    },
    {
     "data": {
      "image/png": "[encoded data removed]",
      "text/plain": [
       "<Figure size 432x288 with 2 Axes>"
      ]
     },
     "metadata": {
      "needs_background": "light"
     },
     "output_type": "display_data"
    }
   ],
   "source": [
    "plot_confusion_matrix(knn_model,x_test,y_test)"
   ]
  },
  {
   "cell_type": "markdown",
   "id": "4dfb3704",
   "metadata": {},
   "source": [
    "# Evaluation on Training Data"
   ]
  },
  {
   "cell_type": "code",
   "execution_count": 42,
   "id": "a38d2f8e",
   "metadata": {},
   "outputs": [
    {
     "name": "stdout",
     "output_type": "stream",
     "text": [
      "Confusion Matrix on Training data is :\n",
      " [[235  21]\n",
      " [ 34 190]]\n",
      "Classification Report :\n",
      "               precision    recall  f1-score   support\n",
      "\n",
      "           0       0.87      0.92      0.90       256\n",
      "           1       0.90      0.85      0.87       224\n",
      "\n",
      "    accuracy                           0.89       480\n",
      "   macro avg       0.89      0.88      0.88       480\n",
      "weighted avg       0.89      0.89      0.89       480\n",
      "\n",
      "Accuracy score : 0.8854166666666666\n"
     ]
    }
   ],
   "source": [
    "y_pred_train = knn_model.predict(x_train)\n",
    "conf_matrix = confusion_matrix(y_train,y_pred_train)\n",
    "print(\"Confusion Matrix on Training data is :\\n\",conf_matrix)\n",
    "\n",
    "clf_report = classification_report(y_train,y_pred_train)\n",
    "print(\"Classification Report :\\n\",clf_report)\n",
    "acc_score = accuracy_score(y_train,y_pred_train)\n",
    "print(\"Accuracy score :\",acc_score)"
   ]
  },
  {
   "cell_type": "code",
   "execution_count": 43,
   "id": "52615588",
   "metadata": {},
   "outputs": [
    {
     "data": {
      "text/plain": [
       "<sklearn.metrics._plot.confusion_matrix.ConfusionMatrixDisplay at 0x210b8095ba0>"
      ]
     },
     "execution_count": 43,
     "metadata": {},
     "output_type": "execute_result"
    },
    {
     "data": {
      "image/png": "[encoded data removed]",
      "text/plain": [
       "<Figure size 432x288 with 2 Axes>"
      ]
     },
     "metadata": {
      "needs_background": "light"
     },
     "output_type": "display_data"
    }
   ],
   "source": [
    "plot_confusion_matrix(knn_model,x_train,y_train)"
   ]
  },
  {
   "cell_type": "markdown",
   "id": "5a289d08",
   "metadata": {},
   "source": [
    "# Hyperparamater Tuning"
   ]
  },
  {
   "cell_type": "markdown",
   "id": "3065bd33",
   "metadata": {},
   "source": [
    "# 1. GridSearchCV"
   ]
  },
  {
   "cell_type": "code",
   "execution_count": 44,
   "id": "514aceeb",
   "metadata": {},
   "outputs": [
    {
     "data": {
      "text/plain": [
       "KNeighborsClassifier(n_neighbors=19, p=1)"
      ]
     },
     "execution_count": 44,
     "metadata": {},
     "output_type": "execute_result"
    }
   ],
   "source": [
    "knn_model = KNeighborsClassifier()\n",
    "\n",
    "parameters = {'n_neighbors': np.arange(2,30),\n",
    "              'p':[1,2]}\n",
    "\n",
    "gscv_knn_model = GridSearchCV(knn_model,parameters,cv = 5)\n",
    "gscv_knn_model.fit(x_train,y_train)\n",
    "gscv_knn_model.best_estimator_"
   ]
  },
  {
   "cell_type": "markdown",
   "id": "d00d35eb",
   "metadata": {},
   "source": [
    "# 2. RandomizedSearchCV"
   ]
  },
  {
   "cell_type": "code",
   "execution_count": 45,
   "id": "3e1e2321",
   "metadata": {},
   "outputs": [
    {
     "data": {
      "text/plain": [
       "KNeighborsClassifier(n_neighbors=23, p=1)"
      ]
     },
     "execution_count": 45,
     "metadata": {},
     "output_type": "execute_result"
    }
   ],
   "source": [
    "knn_model = KNeighborsClassifier()\n",
    "\n",
    "parameters = {'n_neighbors': np.arange(2,30),\n",
    "              'p':[1,2]}\n",
    "\n",
    "rscv_knn_model = RandomizedSearchCV(knn_model,parameters,cv = 5)\n",
    "rscv_knn_model.fit(x_train,y_train)\n",
    "rscv_knn_model.best_estimator_"
   ]
  },
  {
   "cell_type": "markdown",
   "id": "aa3524fb",
   "metadata": {},
   "source": [
    "# Elbow Method"
   ]
  },
  {
   "cell_type": "code",
   "execution_count": 46,
   "id": "ea571ba8",
   "metadata": {},
   "outputs": [],
   "source": [
    "import matplotlib.pyplot as plt"
   ]
  },
  {
   "cell_type": "code",
   "execution_count": 47,
   "id": "f00a527c",
   "metadata": {},
   "outputs": [],
   "source": [
    "acc_score_list = []\n",
    "error_rate_list = []\n",
    "k = range(2,50)\n",
    "for i in k:\n",
    "    knn_model = KNeighborsClassifier(n_neighbors=i)\n",
    "    knn_model.fit(x_train, y_train)\n",
    "    y_pred = knn_model.predict(x_test)\n",
    "    acc_score = accuracy_score(y_test,y_pred)\n",
    "    acc_score_list.append(acc_score)\n",
    "    error_rate_list.append(np.mean(y_test != y_pred))"
   ]
  },
  {
   "cell_type": "code",
   "execution_count": 48,
   "id": "89790c8c",
   "metadata": {},
   "outputs": [
    {
     "data": {
      "text/plain": [
       "[<matplotlib.lines.Line2D at 0x210b98628c0>]"
      ]
     },
     "execution_count": 48,
     "metadata": {},
     "output_type": "execute_result"
    },
    {
     "data": {
      "image/png": "[encoded data removed]",
      "text/plain": [
       "<Figure size 432x288 with 1 Axes>"
      ]
     },
     "metadata": {
      "needs_background": "light"
     },
     "output_type": "display_data"
    }
   ],
   "source": [
    "plt.plot(k,error_rate_list)"
   ]
  },
  {
   "cell_type": "code",
   "execution_count": 49,
   "id": "bc5f520a",
   "metadata": {},
   "outputs": [
    {
     "data": {
      "text/plain": [
       "array([[0.2244898 , 0.7755102 ],\n",
       "       [0.51020408, 0.48979592],\n",
       "       [0.59183673, 0.40816327],\n",
       "       [0.79591837, 0.20408163],\n",
       "       [0.83673469, 0.16326531],\n",
       "       [0.24489796, 0.75510204],\n",
       "       [0.04081633, 0.95918367],\n",
       "       [0.75510204, 0.24489796],\n",
       "       [0.20408163, 0.79591837],\n",
       "       [0.79591837, 0.20408163],\n",
       "       [0.7755102 , 0.2244898 ],\n",
       "       [0.08163265, 0.91836735],\n",
       "       [0.85714286, 0.14285714],\n",
       "       [0.3877551 , 0.6122449 ],\n",
       "       [1.        , 0.        ],\n",
       "       [0.32653061, 0.67346939],\n",
       "       [0.02040816, 0.97959184],\n",
       "       [0.2244898 , 0.7755102 ],\n",
       "       [0.71428571, 0.28571429],\n",
       "       [0.10204082, 0.89795918],\n",
       "       [0.85714286, 0.14285714],\n",
       "       [0.10204082, 0.89795918],\n",
       "       [0.89795918, 0.10204082],\n",
       "       [0.51020408, 0.48979592],\n",
       "       [0.02040816, 0.97959184],\n",
       "       [0.06122449, 0.93877551],\n",
       "       [0.16326531, 0.83673469],\n",
       "       [0.93877551, 0.06122449],\n",
       "       [0.10204082, 0.89795918],\n",
       "       [0.20408163, 0.79591837],\n",
       "       [0.6122449 , 0.3877551 ],\n",
       "       [0.02040816, 0.97959184],\n",
       "       [0.42857143, 0.57142857],\n",
       "       [0.85714286, 0.14285714],\n",
       "       [0.14285714, 0.85714286],\n",
       "       [0.16326531, 0.83673469],\n",
       "       [0.12244898, 0.87755102],\n",
       "       [0.18367347, 0.81632653],\n",
       "       [0.04081633, 0.95918367],\n",
       "       [0.73469388, 0.26530612],\n",
       "       [0.91836735, 0.08163265],\n",
       "       [0.        , 1.        ],\n",
       "       [0.75510204, 0.24489796],\n",
       "       [0.83673469, 0.16326531],\n",
       "       [0.10204082, 0.89795918],\n",
       "       [0.89795918, 0.10204082],\n",
       "       [0.87755102, 0.12244898],\n",
       "       [0.95918367, 0.04081633],\n",
       "       [0.93877551, 0.06122449],\n",
       "       [0.18367347, 0.81632653],\n",
       "       [0.85714286, 0.14285714],\n",
       "       [0.95918367, 0.04081633],\n",
       "       [0.93877551, 0.06122449],\n",
       "       [0.59183673, 0.40816327],\n",
       "       [0.06122449, 0.93877551],\n",
       "       [0.10204082, 0.89795918],\n",
       "       [0.42857143, 0.57142857],\n",
       "       [0.36734694, 0.63265306],\n",
       "       [0.85714286, 0.14285714],\n",
       "       [0.02040816, 0.97959184],\n",
       "       [0.51020408, 0.48979592],\n",
       "       [0.67346939, 0.32653061],\n",
       "       [0.20408163, 0.79591837],\n",
       "       [0.12244898, 0.87755102],\n",
       "       [0.97959184, 0.02040816],\n",
       "       [0.10204082, 0.89795918],\n",
       "       [0.81632653, 0.18367347],\n",
       "       [0.93877551, 0.06122449],\n",
       "       [0.04081633, 0.95918367],\n",
       "       [0.75510204, 0.24489796],\n",
       "       [0.14285714, 0.85714286],\n",
       "       [0.44897959, 0.55102041],\n",
       "       [0.08163265, 0.91836735],\n",
       "       [0.79591837, 0.20408163],\n",
       "       [0.87755102, 0.12244898],\n",
       "       [0.93877551, 0.06122449],\n",
       "       [0.10204082, 0.89795918],\n",
       "       [0.6122449 , 0.3877551 ],\n",
       "       [0.        , 1.        ],\n",
       "       [0.79591837, 0.20408163],\n",
       "       [0.12244898, 0.87755102],\n",
       "       [0.06122449, 0.93877551],\n",
       "       [0.71428571, 0.28571429],\n",
       "       [0.36734694, 0.63265306],\n",
       "       [0.81632653, 0.18367347],\n",
       "       [0.91836735, 0.08163265],\n",
       "       [0.97959184, 0.02040816],\n",
       "       [0.97959184, 0.02040816],\n",
       "       [0.87755102, 0.12244898],\n",
       "       [0.85714286, 0.14285714],\n",
       "       [0.53061224, 0.46938776],\n",
       "       [0.83673469, 0.16326531],\n",
       "       [0.14285714, 0.85714286],\n",
       "       [0.83673469, 0.16326531],\n",
       "       [0.91836735, 0.08163265],\n",
       "       [0.79591837, 0.20408163],\n",
       "       [0.95918367, 0.04081633],\n",
       "       [0.67346939, 0.32653061],\n",
       "       [0.89795918, 0.10204082],\n",
       "       [0.7755102 , 0.2244898 ],\n",
       "       [0.95918367, 0.04081633],\n",
       "       [0.7755102 , 0.2244898 ],\n",
       "       [0.04081633, 0.95918367],\n",
       "       [0.2244898 , 0.7755102 ],\n",
       "       [0.08163265, 0.91836735],\n",
       "       [0.95918367, 0.04081633],\n",
       "       [0.97959184, 0.02040816],\n",
       "       [0.79591837, 0.20408163],\n",
       "       [0.04081633, 0.95918367],\n",
       "       [0.20408163, 0.79591837],\n",
       "       [0.48979592, 0.51020408],\n",
       "       [0.85714286, 0.14285714],\n",
       "       [1.        , 0.        ],\n",
       "       [0.87755102, 0.12244898],\n",
       "       [0.67346939, 0.32653061],\n",
       "       [0.06122449, 0.93877551],\n",
       "       [0.08163265, 0.91836735],\n",
       "       [0.85714286, 0.14285714],\n",
       "       [0.46938776, 0.53061224],\n",
       "       [0.97959184, 0.02040816],\n",
       "       [0.79591837, 0.20408163]])"
      ]
     },
     "execution_count": 49,
     "metadata": {},
     "output_type": "execute_result"
    }
   ],
   "source": [
    "y_pred_proba = knn_model.predict_proba(x_test)\n",
    "y_pred_proba"
   ]
  },
  {
   "cell_type": "code",
   "execution_count": 50,
   "id": "afa7a12d",
   "metadata": {},
   "outputs": [
    {
     "data": {
      "text/plain": [
       "array([1, 0, 0, 0, 0, 1, 1, 0, 1, 0, 0, 1, 0, 1, 0, 1, 1, 1, 0, 1, 0, 1,\n",
       "       0, 0, 1, 1, 1, 0, 1, 1, 0, 1, 1, 0, 1, 1, 1, 1, 1, 0, 0, 1, 0, 0,\n",
       "       1, 0, 0, 0, 0, 1, 0, 0, 0, 0, 1, 1, 1, 1, 0, 1, 0, 0, 1, 1, 0, 1,\n",
       "       0, 0, 1, 0, 1, 1, 1, 0, 0, 0, 1, 0, 1, 0, 1, 1, 0, 1, 0, 0, 0, 0,\n",
       "       0, 0, 0, 0, 1, 0, 0, 0, 0, 0, 0, 0, 0, 0, 1, 1, 1, 0, 0, 0, 1, 1,\n",
       "       1, 0, 0, 0, 0, 1, 1, 0, 1, 0, 0], dtype=int64)"
      ]
     },
     "execution_count": 50,
     "metadata": {},
     "output_type": "execute_result"
    }
   ],
   "source": [
    "y_pred = knn_model.predict(x_test)\n",
    "y_pred"
   ]
  },
  {
   "cell_type": "code",
   "execution_count": 51,
   "id": "0ae9ce91",
   "metadata": {},
   "outputs": [
    {
     "data": {
      "text/plain": [
       "array([[0.2244898 , 0.7755102 ],\n",
       "       [0.51020408, 0.48979592],\n",
       "       [0.59183673, 0.40816327],\n",
       "       [0.79591837, 0.20408163],\n",
       "       [0.83673469, 0.16326531],\n",
       "       [0.24489796, 0.75510204],\n",
       "       [0.04081633, 0.95918367],\n",
       "       [0.75510204, 0.24489796],\n",
       "       [0.20408163, 0.79591837],\n",
       "       [0.79591837, 0.20408163],\n",
       "       [0.7755102 , 0.2244898 ],\n",
       "       [0.08163265, 0.91836735],\n",
       "       [0.85714286, 0.14285714],\n",
       "       [0.3877551 , 0.6122449 ],\n",
       "       [1.        , 0.        ],\n",
       "       [0.32653061, 0.67346939],\n",
       "       [0.02040816, 0.97959184],\n",
       "       [0.2244898 , 0.7755102 ],\n",
       "       [0.71428571, 0.28571429],\n",
       "       [0.10204082, 0.89795918],\n",
       "       [0.85714286, 0.14285714],\n",
       "       [0.10204082, 0.89795918],\n",
       "       [0.89795918, 0.10204082],\n",
       "       [0.51020408, 0.48979592],\n",
       "       [0.02040816, 0.97959184],\n",
       "       [0.06122449, 0.93877551],\n",
       "       [0.16326531, 0.83673469],\n",
       "       [0.93877551, 0.06122449],\n",
       "       [0.10204082, 0.89795918],\n",
       "       [0.20408163, 0.79591837],\n",
       "       [0.6122449 , 0.3877551 ],\n",
       "       [0.02040816, 0.97959184],\n",
       "       [0.42857143, 0.57142857],\n",
       "       [0.85714286, 0.14285714],\n",
       "       [0.14285714, 0.85714286],\n",
       "       [0.16326531, 0.83673469],\n",
       "       [0.12244898, 0.87755102],\n",
       "       [0.18367347, 0.81632653],\n",
       "       [0.04081633, 0.95918367],\n",
       "       [0.73469388, 0.26530612],\n",
       "       [0.91836735, 0.08163265],\n",
       "       [0.        , 1.        ],\n",
       "       [0.75510204, 0.24489796],\n",
       "       [0.83673469, 0.16326531],\n",
       "       [0.10204082, 0.89795918],\n",
       "       [0.89795918, 0.10204082],\n",
       "       [0.87755102, 0.12244898],\n",
       "       [0.95918367, 0.04081633],\n",
       "       [0.93877551, 0.06122449],\n",
       "       [0.18367347, 0.81632653],\n",
       "       [0.85714286, 0.14285714],\n",
       "       [0.95918367, 0.04081633],\n",
       "       [0.93877551, 0.06122449],\n",
       "       [0.59183673, 0.40816327],\n",
       "       [0.06122449, 0.93877551],\n",
       "       [0.10204082, 0.89795918],\n",
       "       [0.42857143, 0.57142857],\n",
       "       [0.36734694, 0.63265306],\n",
       "       [0.85714286, 0.14285714],\n",
       "       [0.02040816, 0.97959184],\n",
       "       [0.51020408, 0.48979592],\n",
       "       [0.67346939, 0.32653061],\n",
       "       [0.20408163, 0.79591837],\n",
       "       [0.12244898, 0.87755102],\n",
       "       [0.97959184, 0.02040816],\n",
       "       [0.10204082, 0.89795918],\n",
       "       [0.81632653, 0.18367347],\n",
       "       [0.93877551, 0.06122449],\n",
       "       [0.04081633, 0.95918367],\n",
       "       [0.75510204, 0.24489796],\n",
       "       [0.14285714, 0.85714286],\n",
       "       [0.44897959, 0.55102041],\n",
       "       [0.08163265, 0.91836735],\n",
       "       [0.79591837, 0.20408163],\n",
       "       [0.87755102, 0.12244898],\n",
       "       [0.93877551, 0.06122449],\n",
       "       [0.10204082, 0.89795918],\n",
       "       [0.6122449 , 0.3877551 ],\n",
       "       [0.        , 1.        ],\n",
       "       [0.79591837, 0.20408163],\n",
       "       [0.12244898, 0.87755102],\n",
       "       [0.06122449, 0.93877551],\n",
       "       [0.71428571, 0.28571429],\n",
       "       [0.36734694, 0.63265306],\n",
       "       [0.81632653, 0.18367347],\n",
       "       [0.91836735, 0.08163265],\n",
       "       [0.97959184, 0.02040816],\n",
       "       [0.97959184, 0.02040816],\n",
       "       [0.87755102, 0.12244898],\n",
       "       [0.85714286, 0.14285714],\n",
       "       [0.53061224, 0.46938776],\n",
       "       [0.83673469, 0.16326531],\n",
       "       [0.14285714, 0.85714286],\n",
       "       [0.83673469, 0.16326531],\n",
       "       [0.91836735, 0.08163265],\n",
       "       [0.79591837, 0.20408163],\n",
       "       [0.95918367, 0.04081633],\n",
       "       [0.67346939, 0.32653061],\n",
       "       [0.89795918, 0.10204082],\n",
       "       [0.7755102 , 0.2244898 ],\n",
       "       [0.95918367, 0.04081633],\n",
       "       [0.7755102 , 0.2244898 ],\n",
       "       [0.04081633, 0.95918367],\n",
       "       [0.2244898 , 0.7755102 ],\n",
       "       [0.08163265, 0.91836735],\n",
       "       [0.95918367, 0.04081633],\n",
       "       [0.97959184, 0.02040816],\n",
       "       [0.79591837, 0.20408163],\n",
       "       [0.04081633, 0.95918367],\n",
       "       [0.20408163, 0.79591837],\n",
       "       [0.48979592, 0.51020408],\n",
       "       [0.85714286, 0.14285714],\n",
       "       [1.        , 0.        ],\n",
       "       [0.87755102, 0.12244898],\n",
       "       [0.67346939, 0.32653061],\n",
       "       [0.06122449, 0.93877551],\n",
       "       [0.08163265, 0.91836735],\n",
       "       [0.85714286, 0.14285714],\n",
       "       [0.46938776, 0.53061224],\n",
       "       [0.97959184, 0.02040816],\n",
       "       [0.79591837, 0.20408163]])"
      ]
     },
     "execution_count": 51,
     "metadata": {},
     "output_type": "execute_result"
    }
   ],
   "source": [
    "y_pred_proba = knn_model.predict_proba(x_test)\n",
    "y_pred_proba"
   ]
  },
  {
   "cell_type": "code",
   "execution_count": 52,
   "id": "364ca41c",
   "metadata": {},
   "outputs": [],
   "source": [
    "from sklearn.metrics import roc_auc_score,roc_curve,multilabel_confusion_matrix"
   ]
  },
  {
   "cell_type": "code",
   "execution_count": 53,
   "id": "71c249f4",
   "metadata": {},
   "outputs": [],
   "source": [
    "fpr,tpr,thresh = roc_curve(y_test,y_pred_proba[:,1])"
   ]
  },
  {
   "cell_type": "code",
   "execution_count": 54,
   "id": "9b99fa64",
   "metadata": {},
   "outputs": [
    {
     "data": {
      "text/plain": [
       "array([0.      , 0.      , 0.015625, 0.015625, 0.015625, 0.015625,\n",
       "       0.03125 , 0.03125 , 0.046875, 0.046875, 0.046875, 0.046875,\n",
       "       0.046875, 0.0625  , 0.09375 , 0.09375 , 0.109375, 0.109375,\n",
       "       0.125   , 0.125   , 0.140625, 0.140625, 0.171875, 0.203125,\n",
       "       0.21875 , 0.21875 , 0.265625, 0.296875, 0.40625 , 0.421875,\n",
       "       0.453125, 0.578125, 0.640625, 0.734375, 0.96875 , 1.      ])"
      ]
     },
     "execution_count": 54,
     "metadata": {},
     "output_type": "execute_result"
    }
   ],
   "source": [
    "fpr"
   ]
  },
  {
   "cell_type": "code",
   "execution_count": 55,
   "id": "fce10d39",
   "metadata": {},
   "outputs": [
    {
     "data": {
      "text/plain": [
       "array([0.        , 0.03508772, 0.0877193 , 0.1754386 , 0.31578947,\n",
       "       0.43859649, 0.47368421, 0.52631579, 0.54385965, 0.57894737,\n",
       "       0.64912281, 0.70175439, 0.71929825, 0.71929825, 0.71929825,\n",
       "       0.73684211, 0.75438596, 0.77192982, 0.77192982, 0.78947368,\n",
       "       0.8245614 , 0.84210526, 0.87719298, 0.89473684, 0.9122807 ,\n",
       "       0.92982456, 0.92982456, 0.94736842, 0.94736842, 0.96491228,\n",
       "       1.        , 1.        , 1.        , 1.        , 1.        ,\n",
       "       1.        ])"
      ]
     },
     "execution_count": 55,
     "metadata": {},
     "output_type": "execute_result"
    }
   ],
   "source": [
    "tpr"
   ]
  },
  {
   "cell_type": "code",
   "execution_count": 56,
   "id": "0114e7e7",
   "metadata": {},
   "outputs": [
    {
     "data": {
      "text/plain": [
       "array([2.        , 1.        , 0.97959184, 0.95918367, 0.91836735,\n",
       "       0.89795918, 0.87755102, 0.85714286, 0.83673469, 0.81632653,\n",
       "       0.79591837, 0.7755102 , 0.75510204, 0.67346939, 0.63265306,\n",
       "       0.6122449 , 0.57142857, 0.55102041, 0.53061224, 0.51020408,\n",
       "       0.48979592, 0.46938776, 0.3877551 , 0.32653061, 0.28571429,\n",
       "       0.26530612, 0.24489796, 0.2244898 , 0.20408163, 0.18367347,\n",
       "       0.16326531, 0.14285714, 0.12244898, 0.08163265, 0.02040816,\n",
       "       0.        ])"
      ]
     },
     "execution_count": 56,
     "metadata": {},
     "output_type": "execute_result"
    }
   ],
   "source": [
    "thresh"
   ]
  },
  {
   "cell_type": "code",
   "execution_count": 57,
   "id": "e2601790",
   "metadata": {},
   "outputs": [
    {
     "data": {
      "text/plain": [
       "array([[56,  8],\n",
       "       [12, 45]], dtype=int64)"
      ]
     },
     "execution_count": 57,
     "metadata": {},
     "output_type": "execute_result"
    }
   ],
   "source": [
    "confusion_matrix(y_test,y_pred)"
   ]
  },
  {
   "cell_type": "code",
   "execution_count": 58,
   "id": "2f0e69d7",
   "metadata": {},
   "outputs": [
    {
     "data": {
      "text/plain": [
       "array([[61,  3],\n",
       "       [24, 33]], dtype=int64)"
      ]
     },
     "execution_count": 58,
     "metadata": {},
     "output_type": "execute_result"
    }
   ],
   "source": [
    "threshold =0.8\n",
    "y_pred = (knn_model.predict_proba(x_test)[:, 1] > threshold)\n",
    "confusion_matrix(y_test, y_pred)"
   ]
  },
  {
   "cell_type": "code",
   "execution_count": 59,
   "id": "077e0f90",
   "metadata": {},
   "outputs": [
    {
     "name": "stdout",
     "output_type": "stream",
     "text": [
      "Accuracy score : 0.7768595041322314\n"
     ]
    }
   ],
   "source": [
    "acc_score = accuracy_score(y_test,y_pred)\n",
    "print(\"Accuracy score :\",acc_score)"
   ]
  },
  {
   "cell_type": "code",
   "execution_count": 60,
   "id": "57dcf21c",
   "metadata": {},
   "outputs": [
    {
     "data": {
      "text/plain": [
       "array([[228,  28],\n",
       "       [ 40, 184]], dtype=int64)"
      ]
     },
     "execution_count": 60,
     "metadata": {},
     "output_type": "execute_result"
    }
   ],
   "source": [
    "y_pred_train = knn_model.predict(x_train)\n",
    "confusion_matrix(y_train,y_pred_train)"
   ]
  },
  {
   "cell_type": "code",
   "execution_count": 61,
   "id": "beb402d1",
   "metadata": {},
   "outputs": [
    {
     "data": {
      "text/plain": [
       "array([[250,   6],\n",
       "       [102, 122]], dtype=int64)"
      ]
     },
     "execution_count": 61,
     "metadata": {},
     "output_type": "execute_result"
    }
   ],
   "source": [
    "threshold =0.8\n",
    "y_pred = (knn_model.predict_proba(x_train)[:, 1] > threshold)\n",
    "confusion_matrix(y_train, y_pred)"
   ]
  },
  {
   "cell_type": "code",
   "execution_count": 62,
   "id": "d91e7e43",
   "metadata": {},
   "outputs": [
    {
     "data": {
      "text/plain": [
       "0.775"
      ]
     },
     "execution_count": 62,
     "metadata": {},
     "output_type": "execute_result"
    }
   ],
   "source": [
    "accuracy_score(y_train,y_pred)"
   ]
  },
  {
   "cell_type": "code",
   "execution_count": null,
   "id": "b276b986",
   "metadata": {},
   "outputs": [],
   "source": []
  },
  {
   "cell_type": "code",
   "execution_count": 63,
   "id": "ed982550",
   "metadata": {},
   "outputs": [
    {
     "data": {
      "image/png": "[encoded data removed]",
      "text/plain": [
       "<Figure size 432x288 with 1 Axes>"
      ]
     },
     "metadata": {
      "needs_background": "light"
     },
     "output_type": "display_data"
    }
   ],
   "source": [
    "plt.title('ROC Curve')\n",
    "plt.xlabel(\"False Positive Rate\")\n",
    "plt.ylabel(\"True Positive Rate\")\n",
    "plt.plot(fpr,tpr)\n",
    "plt.savefig(\"ROC_Curve.png\")"
   ]
  },
  {
   "cell_type": "code",
   "execution_count": 64,
   "id": "373c1ad2",
   "metadata": {},
   "outputs": [],
   "source": [
    "df.to_csv(\"heart1_df.csv\")"
   ]
  },
  {
   "cell_type": "code",
   "execution_count": 65,
   "id": "3b7d6fa8",
   "metadata": {},
   "outputs": [],
   "source": [
    "import pickle \n",
    "pickle.dump(knn_model, open(\"model1.pkl\",\"wb\"))"
   ]
  },
  {
   "cell_type": "code",
   "execution_count": 66,
   "id": "fcd7b43e",
   "metadata": {},
   "outputs": [],
   "source": [
    "#https://towardsdatascience.com/project-predicting-heart-disease-with-classification-machine-learning-algorithms-fd69e6fdc9d6"
   ]
  }
 ],
 "metadata": {
  "kernelspec": {
   "display_name": "Python 3 (ipykernel)",
   "language": "python",
   "name": "python3"
  },
  "language_info": {
   "codemirror_mode": {
    "name": "ipython",
    "version": 3
   },
   "file_extension": ".py",
   "mimetype": "text/x-python",
   "name": "python",
   "nbconvert_exporter": "python",
   "pygments_lexer": "ipython3",
   "version": "3.10.2"
  }
 },
 "nbformat": 4,
 "nbformat_minor": 5
}
